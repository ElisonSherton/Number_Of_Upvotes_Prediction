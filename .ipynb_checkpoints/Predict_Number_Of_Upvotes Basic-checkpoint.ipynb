{
 "cells": [
  {
   "cell_type": "markdown",
   "metadata": {},
   "source": [
    "# Predict number of upvotes\n",
    "\n",
    "An online question and answer platform has hired you as a data scientist to identify the best question authors on the platform. This identification will bring more insight into increasing the user engagement. Given the tag of the question, number of views received, number of answers, username and reputation of the question author, the problem requires you to predict the upvote count that the question will receive.\n",
    "\n",
    "**The structure of the dataset is as follows:**\n",
    "\n",
    "![](data_description.png)\n",
    "\n",
    "**Evaluation Metric**: Root Mean Squared Error (RMSE)"
   ]
  },
  {
   "cell_type": "code",
   "execution_count": 29,
   "metadata": {},
   "outputs": [],
   "source": [
    "import warnings\n",
    "warnings.filterwarnings('ignore')\n",
    "\n",
    "import pandas as pd\n",
    "import numpy as np\n",
    "\n",
    "import matplotlib.pyplot as plt\n",
    "import seaborn as sns\n",
    "%matplotlib inline\n",
    "\n",
    "from sklearn.model_selection import train_test_split\n",
    "from sklearn.metrics import mean_squared_error\n",
    "from sklearn.preprocessing import StandardScaler, OneHotEncoder, LabelEncoder"
   ]
  },
  {
   "cell_type": "code",
   "execution_count": 2,
   "metadata": {},
   "outputs": [],
   "source": [
    "train = pd.read_csv(\"train_NIR5Yl1.csv\")\n",
    "test = pd.read_csv(\"test_8i3B3FC.csv\")"
   ]
  },
  {
   "cell_type": "code",
   "execution_count": 3,
   "metadata": {},
   "outputs": [
    {
     "data": {
      "text/html": [
       "<div>\n",
       "<style scoped>\n",
       "    .dataframe tbody tr th:only-of-type {\n",
       "        vertical-align: middle;\n",
       "    }\n",
       "\n",
       "    .dataframe tbody tr th {\n",
       "        vertical-align: top;\n",
       "    }\n",
       "\n",
       "    .dataframe thead th {\n",
       "        text-align: right;\n",
       "    }\n",
       "</style>\n",
       "<table border=\"1\" class=\"dataframe\">\n",
       "  <thead>\n",
       "    <tr style=\"text-align: right;\">\n",
       "      <th></th>\n",
       "      <th>ID</th>\n",
       "      <th>Tag</th>\n",
       "      <th>Reputation</th>\n",
       "      <th>Answers</th>\n",
       "      <th>Username</th>\n",
       "      <th>Views</th>\n",
       "      <th>Upvotes</th>\n",
       "    </tr>\n",
       "  </thead>\n",
       "  <tbody>\n",
       "    <tr>\n",
       "      <td>0</td>\n",
       "      <td>52664</td>\n",
       "      <td>a</td>\n",
       "      <td>3942.0</td>\n",
       "      <td>2.0</td>\n",
       "      <td>155623</td>\n",
       "      <td>7855.0</td>\n",
       "      <td>42.0</td>\n",
       "    </tr>\n",
       "    <tr>\n",
       "      <td>1</td>\n",
       "      <td>327662</td>\n",
       "      <td>a</td>\n",
       "      <td>26046.0</td>\n",
       "      <td>12.0</td>\n",
       "      <td>21781</td>\n",
       "      <td>55801.0</td>\n",
       "      <td>1175.0</td>\n",
       "    </tr>\n",
       "    <tr>\n",
       "      <td>2</td>\n",
       "      <td>468453</td>\n",
       "      <td>c</td>\n",
       "      <td>1358.0</td>\n",
       "      <td>4.0</td>\n",
       "      <td>56177</td>\n",
       "      <td>8067.0</td>\n",
       "      <td>60.0</td>\n",
       "    </tr>\n",
       "    <tr>\n",
       "      <td>3</td>\n",
       "      <td>96996</td>\n",
       "      <td>a</td>\n",
       "      <td>264.0</td>\n",
       "      <td>3.0</td>\n",
       "      <td>168793</td>\n",
       "      <td>27064.0</td>\n",
       "      <td>9.0</td>\n",
       "    </tr>\n",
       "    <tr>\n",
       "      <td>4</td>\n",
       "      <td>131465</td>\n",
       "      <td>c</td>\n",
       "      <td>4271.0</td>\n",
       "      <td>4.0</td>\n",
       "      <td>112223</td>\n",
       "      <td>13986.0</td>\n",
       "      <td>83.0</td>\n",
       "    </tr>\n",
       "  </tbody>\n",
       "</table>\n",
       "</div>"
      ],
      "text/plain": [
       "       ID Tag  Reputation  Answers  Username    Views  Upvotes\n",
       "0   52664   a      3942.0      2.0    155623   7855.0     42.0\n",
       "1  327662   a     26046.0     12.0     21781  55801.0   1175.0\n",
       "2  468453   c      1358.0      4.0     56177   8067.0     60.0\n",
       "3   96996   a       264.0      3.0    168793  27064.0      9.0\n",
       "4  131465   c      4271.0      4.0    112223  13986.0     83.0"
      ]
     },
     "execution_count": 3,
     "metadata": {},
     "output_type": "execute_result"
    }
   ],
   "source": [
    "train.head()"
   ]
  },
  {
   "cell_type": "markdown",
   "metadata": {},
   "source": [
    "# Exploratory Data Analysis"
   ]
  },
  {
   "cell_type": "code",
   "execution_count": 4,
   "metadata": {},
   "outputs": [],
   "source": [
    "def inspect_data(df, kind):\n",
    "    print(f\"Shape of the {kind} data: {df.shape}\\n\")\n",
    "    print(f\"Null values in the {kind} dataset: \")\n",
    "    print(df.isnull().sum())\n",
    "    print(f\"\\nUnique values in the {kind} columns: \")\n",
    "    for i in df.columns:\n",
    "        print(\"{0: <15}\".format(i), \"{0:<3}\".format(len(np.unique(df[i]))))\n",
    "    print(\"\\nDatatypes of individual columns are:\\n\")\n",
    "    print(df.dtypes)"
   ]
  },
  {
   "cell_type": "code",
   "execution_count": 5,
   "metadata": {},
   "outputs": [
    {
     "name": "stdout",
     "output_type": "stream",
     "text": [
      "Shape of the Test data: (141448, 6)\n",
      "\n",
      "Null values in the Test dataset: \n",
      "ID            0\n",
      "Tag           0\n",
      "Reputation    0\n",
      "Answers       0\n",
      "Username      0\n",
      "Views         0\n",
      "dtype: int64\n",
      "\n",
      "Unique values in the Test columns: \n",
      "ID              141448\n",
      "Tag             10 \n",
      "Reputation      14098\n",
      "Answers         58 \n",
      "Username        79351\n",
      "Views           52807\n",
      "\n",
      "Datatypes of individual columns are:\n",
      "\n",
      "ID              int64\n",
      "Tag            object\n",
      "Reputation    float64\n",
      "Answers       float64\n",
      "Username        int64\n",
      "Views         float64\n",
      "dtype: object\n"
     ]
    }
   ],
   "source": [
    "inspect_data(test, \"Test\")"
   ]
  },
  {
   "cell_type": "code",
   "execution_count": 6,
   "metadata": {},
   "outputs": [
    {
     "name": "stdout",
     "output_type": "stream",
     "text": [
      "Shape of the Train data: (330045, 7)\n",
      "\n",
      "Null values in the Train dataset: \n",
      "ID            0\n",
      "Tag           0\n",
      "Reputation    0\n",
      "Answers       0\n",
      "Username      0\n",
      "Views         0\n",
      "Upvotes       0\n",
      "dtype: int64\n",
      "\n",
      "Unique values in the Train columns: \n",
      "ID              330045\n",
      "Tag             10 \n",
      "Reputation      16527\n",
      "Answers         63 \n",
      "Username        141802\n",
      "Views           82137\n",
      "Upvotes         7239\n",
      "\n",
      "Datatypes of individual columns are:\n",
      "\n",
      "ID              int64\n",
      "Tag            object\n",
      "Reputation    float64\n",
      "Answers       float64\n",
      "Username        int64\n",
      "Views         float64\n",
      "Upvotes       float64\n",
      "dtype: object\n"
     ]
    }
   ],
   "source": [
    "inspect_data(train, \"Train\")"
   ]
  },
  {
   "cell_type": "markdown",
   "metadata": {},
   "source": [
    "We know from the problem description that Username and  Tag are both categorical variables and so, they must be encoded as a category and not as a numeric variable. All other columns should be numeric in nature. "
   ]
  },
  {
   "cell_type": "code",
   "execution_count": 7,
   "metadata": {},
   "outputs": [
    {
     "name": "stdout",
     "output_type": "stream",
     "text": [
      "Numerical columns:  ['Reputation', 'Answers', 'Views']\n",
      "Categorical columns:['Tag', 'Username']\n"
     ]
    }
   ],
   "source": [
    "num_cols = []\n",
    "cat_cols = ['Tag', 'Username']\n",
    "for i in train.columns:\n",
    "    if (i not in cat_cols) and (i != \"Upvotes\") and (i != 'ID'):\n",
    "        num_cols.append(i)\n",
    "print(f\"Numerical columns:  {num_cols}\\nCategorical columns:{cat_cols}\")"
   ]
  },
  {
   "cell_type": "code",
   "execution_count": 8,
   "metadata": {},
   "outputs": [
    {
     "name": "stdout",
     "output_type": "stream",
     "text": [
      "ID               int64\n",
      "Tag           category\n",
      "Reputation     float64\n",
      "Answers        float64\n",
      "Username      category\n",
      "Views          float64\n",
      "Upvotes        float64\n",
      "dtype: object\n"
     ]
    }
   ],
   "source": [
    "for i in cat_cols:\n",
    "    train[i] = train[i].astype('category')\n",
    "    test[i] = test[i].astype('category')\n",
    "print(train.dtypes)"
   ]
  },
  {
   "cell_type": "code",
   "execution_count": 9,
   "metadata": {},
   "outputs": [
    {
     "name": "stdout",
     "output_type": "stream",
     "text": [
      "Tag, Levels mismatched: 0\n",
      "Username, Levels mismatched: 33937\n"
     ]
    }
   ],
   "source": [
    "for i in cat_cols:\n",
    "    mismatch = len(set(test[i]).difference(set(train[i])))\n",
    "    print(f\"{i}, Levels mismatched: {mismatch}\")"
   ]
  },
  {
   "cell_type": "code",
   "execution_count": 10,
   "metadata": {},
   "outputs": [
    {
     "data": {
      "image/png": "[encoded data removed]",
      "text/plain": [
       "<Figure size 1080x360 with 2 Axes>"
      ]
     },
     "metadata": {
      "needs_background": "light"
     },
     "output_type": "display_data"
    }
   ],
   "source": [
    "fig, axis = plt.subplots(1, 2, figsize = (15,5))\n",
    "sns.barplot(y = 'Upvotes', x = 'Tag', data = train, ax = axis[0], ci = 0)\n",
    "axis[0].set_title(\"Variation of upvotes wrt Tag\")\n",
    "\n",
    "sns.countplot(train.Tag, ax = axis[1])\n",
    "axis[1].set_title(\"Countplot of individual Tags.\")\n",
    "plt.show()"
   ]
  },
  {
   "cell_type": "markdown",
   "metadata": {},
   "source": [
    "It could be seen that tag j has highest mean upvotes, followed by tag p and overall too, tag j is highly frequent. Tag r has the least mean upvotes and it's proportion in the dataset is also quite small."
   ]
  },
  {
   "cell_type": "code",
   "execution_count": 26,
   "metadata": {},
   "outputs": [
    {
     "data": {
      "image/png": "[encoded data removed]",
      "text/plain": [
       "<Figure size 1080x360 with 1 Axes>"
      ]
     },
     "metadata": {
      "needs_background": "light"
     },
     "output_type": "display_data"
    }
   ],
   "source": [
    "fig, axis = plt.subplots(1, 1, figsize = (15,5))\n",
    "sns.regplot(y = 'Upvotes', x = 'Reputation', data = train, ax = axis)\n",
    "axis.set_title(\"Variation of upvotes wrt Reputation\")\n",
    "plt.show()"
   ]
  },
  {
   "cell_type": "markdown",
   "metadata": {},
   "source": [
    "There seems to be no substantial effect of reputation on upvotes but overall upvotes seem to be increase as the reputation increases. "
   ]
  },
  {
   "cell_type": "code",
   "execution_count": 27,
   "metadata": {},
   "outputs": [
    {
     "data": {
      "image/png": "[encoded data removed]",
      "text/plain": [
       "<Figure size 1080x360 with 1 Axes>"
      ]
     },
     "metadata": {
      "needs_background": "light"
     },
     "output_type": "display_data"
    }
   ],
   "source": [
    "fig, axis = plt.subplots(1, 1, figsize = (15,5))\n",
    "sns.regplot(y = 'Upvotes', x = 'Answers', data = train, ax = axis)\n",
    "axis.set_title(\"Variation of upvotes wrt Answers\")\n",
    "plt.show()"
   ]
  },
  {
   "cell_type": "markdown",
   "metadata": {},
   "source": [
    "There seems to be a slight positive correlation between number of upvotes and the answers."
   ]
  },
  {
   "cell_type": "code",
   "execution_count": 28,
   "metadata": {},
   "outputs": [
    {
     "data": {
      "image/png": "[encoded data removed]",
      "text/plain": [
       "<Figure size 1080x360 with 1 Axes>"
      ]
     },
     "metadata": {
      "needs_background": "light"
     },
     "output_type": "display_data"
    }
   ],
   "source": [
    "fig, axis = plt.subplots(1, 1, figsize = (15,5))\n",
    "sns.regplot(y = 'Upvotes', x = 'Views', data = train, ax = axis)\n",
    "axis.set_title(\"Variation of upvotes wrt Views\")\n",
    "plt.show()"
   ]
  },
  {
   "cell_type": "markdown",
   "metadata": {},
   "source": [
    "As the number of views increases, the number of votes seem to increase dearly. "
   ]
  },
  {
   "cell_type": "code",
   "execution_count": 14,
   "metadata": {},
   "outputs": [],
   "source": [
    "threshold = float(train['Answers'].quantile([0.7]))\n",
    "train['threshold'] = np.where(train['Answers'] > threshold, 1 , 0)\n",
    "test['threshold'] = np.where(test['Answers'] > threshold, 1, 0)\n",
    "num_cols.append('threshold')"
   ]
  },
  {
   "cell_type": "code",
   "execution_count": 15,
   "metadata": {
    "scrolled": true
   },
   "outputs": [
    {
     "data": {
      "image/png": "[encoded data removed]",
      "text/plain": [
       "<Figure size 1080x360 with 2 Axes>"
      ]
     },
     "metadata": {
      "needs_background": "light"
     },
     "output_type": "display_data"
    }
   ],
   "source": [
    "fig, (ax1, ax2) = plt.subplots(1,2,figsize = (15,5))\n",
    "sns.distplot(train['Views'], ax = ax1)\n",
    "sns.distplot(train['Reputation'], ax = ax2)\n",
    "plt.show()"
   ]
  },
  {
   "cell_type": "code",
   "execution_count": 16,
   "metadata": {},
   "outputs": [
    {
     "data": {
      "text/plain": [
       "4"
      ]
     },
     "execution_count": 16,
     "metadata": {},
     "output_type": "execute_result"
    }
   ],
   "source": [
    "np.sum(train['Views'] > 4000000)"
   ]
  },
  {
   "cell_type": "code",
   "execution_count": 17,
   "metadata": {},
   "outputs": [],
   "source": [
    "train = train[train['Views'] <= 4000000]"
   ]
  },
  {
   "cell_type": "code",
   "execution_count": 18,
   "metadata": {},
   "outputs": [],
   "source": [
    "X_train = train[num_cols + cat_cols]\n",
    "y_train = train['Upvotes']\n",
    "\n",
    "X_test = test[num_cols + cat_cols]"
   ]
  },
  {
   "cell_type": "code",
   "execution_count": 19,
   "metadata": {},
   "outputs": [],
   "source": [
    "X_train = pd.get_dummies(X_train, columns=['Tag'], drop_first=True)\n",
    "X_test = pd.get_dummies(X_test, columns=['Tag'], drop_first=True)"
   ]
  },
  {
   "cell_type": "code",
   "execution_count": 20,
   "metadata": {},
   "outputs": [
    {
     "data": {
      "text/html": [
       "<div>\n",
       "<style scoped>\n",
       "    .dataframe tbody tr th:only-of-type {\n",
       "        vertical-align: middle;\n",
       "    }\n",
       "\n",
       "    .dataframe tbody tr th {\n",
       "        vertical-align: top;\n",
       "    }\n",
       "\n",
       "    .dataframe thead th {\n",
       "        text-align: right;\n",
       "    }\n",
       "</style>\n",
       "<table border=\"1\" class=\"dataframe\">\n",
       "  <thead>\n",
       "    <tr style=\"text-align: right;\">\n",
       "      <th></th>\n",
       "      <th>Reputation</th>\n",
       "      <th>Answers</th>\n",
       "      <th>Views</th>\n",
       "      <th>threshold</th>\n",
       "      <th>Username</th>\n",
       "      <th>Tag_c</th>\n",
       "      <th>Tag_h</th>\n",
       "      <th>Tag_i</th>\n",
       "      <th>Tag_j</th>\n",
       "      <th>Tag_o</th>\n",
       "      <th>Tag_p</th>\n",
       "      <th>Tag_r</th>\n",
       "      <th>Tag_s</th>\n",
       "      <th>Tag_x</th>\n",
       "    </tr>\n",
       "  </thead>\n",
       "  <tbody>\n",
       "    <tr>\n",
       "      <td>0</td>\n",
       "      <td>3942.0</td>\n",
       "      <td>2.0</td>\n",
       "      <td>7855.0</td>\n",
       "      <td>0</td>\n",
       "      <td>155623</td>\n",
       "      <td>0</td>\n",
       "      <td>0</td>\n",
       "      <td>0</td>\n",
       "      <td>0</td>\n",
       "      <td>0</td>\n",
       "      <td>0</td>\n",
       "      <td>0</td>\n",
       "      <td>0</td>\n",
       "      <td>0</td>\n",
       "    </tr>\n",
       "    <tr>\n",
       "      <td>1</td>\n",
       "      <td>26046.0</td>\n",
       "      <td>12.0</td>\n",
       "      <td>55801.0</td>\n",
       "      <td>1</td>\n",
       "      <td>21781</td>\n",
       "      <td>0</td>\n",
       "      <td>0</td>\n",
       "      <td>0</td>\n",
       "      <td>0</td>\n",
       "      <td>0</td>\n",
       "      <td>0</td>\n",
       "      <td>0</td>\n",
       "      <td>0</td>\n",
       "      <td>0</td>\n",
       "    </tr>\n",
       "    <tr>\n",
       "      <td>2</td>\n",
       "      <td>1358.0</td>\n",
       "      <td>4.0</td>\n",
       "      <td>8067.0</td>\n",
       "      <td>0</td>\n",
       "      <td>56177</td>\n",
       "      <td>1</td>\n",
       "      <td>0</td>\n",
       "      <td>0</td>\n",
       "      <td>0</td>\n",
       "      <td>0</td>\n",
       "      <td>0</td>\n",
       "      <td>0</td>\n",
       "      <td>0</td>\n",
       "      <td>0</td>\n",
       "    </tr>\n",
       "    <tr>\n",
       "      <td>3</td>\n",
       "      <td>264.0</td>\n",
       "      <td>3.0</td>\n",
       "      <td>27064.0</td>\n",
       "      <td>0</td>\n",
       "      <td>168793</td>\n",
       "      <td>0</td>\n",
       "      <td>0</td>\n",
       "      <td>0</td>\n",
       "      <td>0</td>\n",
       "      <td>0</td>\n",
       "      <td>0</td>\n",
       "      <td>0</td>\n",
       "      <td>0</td>\n",
       "      <td>0</td>\n",
       "    </tr>\n",
       "    <tr>\n",
       "      <td>4</td>\n",
       "      <td>4271.0</td>\n",
       "      <td>4.0</td>\n",
       "      <td>13986.0</td>\n",
       "      <td>0</td>\n",
       "      <td>112223</td>\n",
       "      <td>1</td>\n",
       "      <td>0</td>\n",
       "      <td>0</td>\n",
       "      <td>0</td>\n",
       "      <td>0</td>\n",
       "      <td>0</td>\n",
       "      <td>0</td>\n",
       "      <td>0</td>\n",
       "      <td>0</td>\n",
       "    </tr>\n",
       "    <tr>\n",
       "      <td>...</td>\n",
       "      <td>...</td>\n",
       "      <td>...</td>\n",
       "      <td>...</td>\n",
       "      <td>...</td>\n",
       "      <td>...</td>\n",
       "      <td>...</td>\n",
       "      <td>...</td>\n",
       "      <td>...</td>\n",
       "      <td>...</td>\n",
       "      <td>...</td>\n",
       "      <td>...</td>\n",
       "      <td>...</td>\n",
       "      <td>...</td>\n",
       "      <td>...</td>\n",
       "    </tr>\n",
       "    <tr>\n",
       "      <td>330040</td>\n",
       "      <td>36.0</td>\n",
       "      <td>2.0</td>\n",
       "      <td>1063.0</td>\n",
       "      <td>0</td>\n",
       "      <td>84919</td>\n",
       "      <td>1</td>\n",
       "      <td>0</td>\n",
       "      <td>0</td>\n",
       "      <td>0</td>\n",
       "      <td>0</td>\n",
       "      <td>0</td>\n",
       "      <td>0</td>\n",
       "      <td>0</td>\n",
       "      <td>0</td>\n",
       "    </tr>\n",
       "    <tr>\n",
       "      <td>330041</td>\n",
       "      <td>1649.0</td>\n",
       "      <td>2.0</td>\n",
       "      <td>23319.0</td>\n",
       "      <td>0</td>\n",
       "      <td>76730</td>\n",
       "      <td>1</td>\n",
       "      <td>0</td>\n",
       "      <td>0</td>\n",
       "      <td>0</td>\n",
       "      <td>0</td>\n",
       "      <td>0</td>\n",
       "      <td>0</td>\n",
       "      <td>0</td>\n",
       "      <td>0</td>\n",
       "    </tr>\n",
       "    <tr>\n",
       "      <td>330042</td>\n",
       "      <td>6178.0</td>\n",
       "      <td>2.0</td>\n",
       "      <td>2453.0</td>\n",
       "      <td>0</td>\n",
       "      <td>91701</td>\n",
       "      <td>1</td>\n",
       "      <td>0</td>\n",
       "      <td>0</td>\n",
       "      <td>0</td>\n",
       "      <td>0</td>\n",
       "      <td>0</td>\n",
       "      <td>0</td>\n",
       "      <td>0</td>\n",
       "      <td>0</td>\n",
       "    </tr>\n",
       "    <tr>\n",
       "      <td>330043</td>\n",
       "      <td>89.0</td>\n",
       "      <td>2.0</td>\n",
       "      <td>2107.0</td>\n",
       "      <td>0</td>\n",
       "      <td>80245</td>\n",
       "      <td>0</td>\n",
       "      <td>0</td>\n",
       "      <td>0</td>\n",
       "      <td>1</td>\n",
       "      <td>0</td>\n",
       "      <td>0</td>\n",
       "      <td>0</td>\n",
       "      <td>0</td>\n",
       "      <td>0</td>\n",
       "    </tr>\n",
       "    <tr>\n",
       "      <td>330044</td>\n",
       "      <td>2001.0</td>\n",
       "      <td>4.0</td>\n",
       "      <td>2554.0</td>\n",
       "      <td>0</td>\n",
       "      <td>154692</td>\n",
       "      <td>0</td>\n",
       "      <td>0</td>\n",
       "      <td>0</td>\n",
       "      <td>1</td>\n",
       "      <td>0</td>\n",
       "      <td>0</td>\n",
       "      <td>0</td>\n",
       "      <td>0</td>\n",
       "      <td>0</td>\n",
       "    </tr>\n",
       "  </tbody>\n",
       "</table>\n",
       "<p>330041 rows × 14 columns</p>\n",
       "</div>"
      ],
      "text/plain": [
       "        Reputation  Answers    Views  threshold Username  Tag_c  Tag_h  Tag_i  \\\n",
       "0           3942.0      2.0   7855.0          0   155623      0      0      0   \n",
       "1          26046.0     12.0  55801.0          1    21781      0      0      0   \n",
       "2           1358.0      4.0   8067.0          0    56177      1      0      0   \n",
       "3            264.0      3.0  27064.0          0   168793      0      0      0   \n",
       "4           4271.0      4.0  13986.0          0   112223      1      0      0   \n",
       "...            ...      ...      ...        ...      ...    ...    ...    ...   \n",
       "330040        36.0      2.0   1063.0          0    84919      1      0      0   \n",
       "330041      1649.0      2.0  23319.0          0    76730      1      0      0   \n",
       "330042      6178.0      2.0   2453.0          0    91701      1      0      0   \n",
       "330043        89.0      2.0   2107.0          0    80245      0      0      0   \n",
       "330044      2001.0      4.0   2554.0          0   154692      0      0      0   \n",
       "\n",
       "        Tag_j  Tag_o  Tag_p  Tag_r  Tag_s  Tag_x  \n",
       "0           0      0      0      0      0      0  \n",
       "1           0      0      0      0      0      0  \n",
       "2           0      0      0      0      0      0  \n",
       "3           0      0      0      0      0      0  \n",
       "4           0      0      0      0      0      0  \n",
       "...       ...    ...    ...    ...    ...    ...  \n",
       "330040      0      0      0      0      0      0  \n",
       "330041      0      0      0      0      0      0  \n",
       "330042      0      0      0      0      0      0  \n",
       "330043      1      0      0      0      0      0  \n",
       "330044      1      0      0      0      0      0  \n",
       "\n",
       "[330041 rows x 14 columns]"
      ]
     },
     "execution_count": 20,
     "metadata": {},
     "output_type": "execute_result"
    }
   ],
   "source": [
    "X_train"
   ]
  },
  {
   "cell_type": "code",
   "execution_count": 21,
   "metadata": {
    "cell_style": "center"
   },
   "outputs": [],
   "source": [
    "# num_cols.remove('threshold')\n",
    "X_train[num_cols] = pd.DataFrame(StandardScaler().fit_transform(X_train[num_cols]), columns = num_cols, index = X_train.index)\n",
    "X_test[num_cols] = pd.DataFrame(StandardScaler().fit_transform(X_test[num_cols]), columns = num_cols, index = X_test.index)"
   ]
  },
  {
   "cell_type": "code",
   "execution_count": 22,
   "metadata": {},
   "outputs": [],
   "source": [
    "# quantiles = train['Reputation'].quantile(np.linspace(0,1,21))\n",
    "# q95th = np.array(quantiles)[-2]\n",
    "# indices = train['Reputation'] <= q95th\n",
    "# X_train = X_train[indices]\n",
    "# y_train = y_train[indices]"
   ]
  },
  {
   "cell_type": "markdown",
   "metadata": {},
   "source": [
    "# Linear Regression"
   ]
  },
  {
   "cell_type": "code",
   "execution_count": 23,
   "metadata": {},
   "outputs": [
    {
     "name": "stdout",
     "output_type": "stream",
     "text": [
      "RMSE with Linear Regression : 3016.117025110445\n"
     ]
    }
   ],
   "source": [
    "from sklearn.metrics import mean_squared_error\n",
    "from sklearn.linear_model import LinearRegression\n",
    "\n",
    "LR = LinearRegression().fit(X_train, y_train)\n",
    "\n",
    "y_pred = LR.predict(X_train)\n",
    "print(f\"RMSE with Linear Regression : {(mean_squared_error(y_pred, y_train))**0.5}\")\n",
    "\n",
    "y_test = LR.predict(X_test)\n",
    "x = pd.DataFrame({'ID':test.ID})\n",
    "x['Upvotes'] = y_test\n",
    "x.to_csv('PredictionsLR.csv', index=False)"
   ]
  },
  {
   "cell_type": "markdown",
   "metadata": {},
   "source": [
    "# Decision Tree Regression"
   ]
  },
  {
   "cell_type": "code",
   "execution_count": 24,
   "metadata": {},
   "outputs": [
    {
     "name": "stdout",
     "output_type": "stream",
     "text": [
      "RMSE with Decision Tree Regressor : 601.5169745651242\n"
     ]
    }
   ],
   "source": [
    "from sklearn.metrics import mean_squared_error\n",
    "from sklearn.tree import DecisionTreeRegressor\n",
    "from sklearn.model_selection import RandomizedSearchCV\n",
    "\n",
    "params_grid = {\"max_depth\":[5, 8, 10, 12, 15, 20, 2, 25]}\n",
    "\n",
    "EN = DecisionTreeRegressor()\n",
    "\n",
    "RSCV = RandomizedSearchCV(estimator = EN, param_distributions=params_grid, cv = 3, n_iter = 5, refit = True, random_state=0)\n",
    "\n",
    "RSCV.fit(X_train, y_train)\n",
    "\n",
    "y_pred = RSCV.predict(X_train)\n",
    "print(f\"RMSE with Decision Tree Regressor : {(mean_squared_error(y_pred, y_train))**0.5}\")\n",
    "\n",
    "y_test = RSCV.predict(X_test)\n",
    "x = pd.DataFrame({'ID':test.ID})\n",
    "x['Upvotes'] = y_test\n",
    "x.to_csv('PredictionsDT.csv', index=False)"
   ]
  },
  {
   "cell_type": "markdown",
   "metadata": {},
   "source": [
    "# Random Forest Regression"
   ]
  },
  {
   "cell_type": "code",
   "execution_count": 25,
   "metadata": {},
   "outputs": [
    {
     "name": "stdout",
     "output_type": "stream",
     "text": [
      "RMSE with Random Forest Regressor: 580.8413201711402\n"
     ]
    }
   ],
   "source": [
    "from sklearn.ensemble import RandomForestRegressor\n",
    "from sklearn.model_selection import RandomizedSearchCV\n",
    "\n",
    "params_grid = {\"max_depth\":[5, 8, 10, 12, 15, 20, 2, 25]}\n",
    "\n",
    "EN = RandomForestRegressor(n_estimators=20)\n",
    "\n",
    "RFR = RandomizedSearchCV(estimator = EN, param_distributions=params_grid, cv = 3, n_iter = 5, refit = True, random_state=0)\n",
    "\n",
    "RFR.fit(X_train, y_train)\n",
    "\n",
    "y_pred = RFR.predict(X_train)\n",
    "print(f\"RMSE with Random Forest Regressor: {(mean_squared_error(y_pred, y_train))**0.5}\")\n",
    "\n",
    "y_pred_RFR = RFR.predict(X_test)\n",
    "x = pd.DataFrame({'ID':test.ID})\n",
    "x['Upvotes'] = y_pred_RFR\n",
    "x.to_csv('PredictionsRFR.csv', index=False)"
   ]
  }
 ],
 "metadata": {
  "kernelspec": {
   "display_name": "Python 3",
   "language": "python",
   "name": "python3"
  },
  "language_info": {
   "codemirror_mode": {
    "name": "ipython",
    "version": 3
   },
   "file_extension": ".py",
   "mimetype": "text/x-python",
   "name": "python",
   "nbconvert_exporter": "python",
   "pygments_lexer": "ipython3",
   "version": "3.6.8"
  },
  "latex_envs": {
   "LaTeX_envs_menu_present": true,
   "autoclose": false,
   "autocomplete": true,
   "bibliofile": "biblio.bib",
   "cite_by": "apalike",
   "current_citInitial": 1,
   "eqLabelWithNumbers": true,
   "eqNumInitial": 1,
   "hotkeys": {
    "equation": "Ctrl-E",
    "itemize": "Ctrl-I"
   },
   "labels_anchors": false,
   "latex_user_defs": false,
   "report_style_numbering": false,
   "user_envs_cfg": false
  },
  "toc": {
   "base_numbering": 1,
   "nav_menu": {},
   "number_sections": true,
   "sideBar": true,
   "skip_h1_title": false,
   "title_cell": "Table of Contents",
   "title_sidebar": "Contents",
   "toc_cell": false,
   "toc_position": {},
   "toc_section_display": true,
   "toc_window_display": false
  }
 },
 "nbformat": 4,
 "nbformat_minor": 2
}
