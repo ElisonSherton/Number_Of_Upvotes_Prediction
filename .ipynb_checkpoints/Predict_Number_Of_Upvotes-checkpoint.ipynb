{
 "cells": [
  {
   "attachments": {},
   "cell_type": "markdown",
   "metadata": {},
   "source": [
    "# Predict number of upvotes\n",
    "\n",
    "An online question and answer platform has hired you as a data scientist to identify the best question authors on the platform. This identification will bring more insight into increasing the user engagement. Given the tag of the question, number of views received, number of answers, username and reputation of the question author, the problem requires you to predict the upvote count that the question will receive.\n",
    "\n",
    "**The structure of the dataset is as follows:**\n",
    "\n",
    "![](data_description.png)\n",
    "\n",
    "**Evaluation Metric**: Root Mean Squared Error (RMSE)"
   ]
  },
  {
   "cell_type": "code",
   "execution_count": 1,
   "metadata": {},
   "outputs": [
    {
     "name": "stderr",
     "output_type": "stream",
     "text": [
      "Using TensorFlow backend.\n"
     ]
    }
   ],
   "source": [
    "import warnings\n",
    "warnings.filterwarnings('ignore')\n",
    "\n",
    "import pandas as pd\n",
    "import numpy as np\n",
    "\n",
    "import matplotlib.pyplot as plt\n",
    "import seaborn as sns\n",
    "%matplotlib inline\n",
    "\n",
    "from sklearn.model_selection import train_test_split\n",
    "from sklearn.metrics import mean_squared_error\n",
    "from sklearn.preprocessing import StandardScaler, OneHotEncoder, LabelEncoder\n",
    "\n",
    "from keras.models import Model\n",
    "from keras.layers import Embedding, Dense, Flatten, Input, concatenate, Dropout\n",
    "from keras.optimizers import SGD"
   ]
  },
  {
   "cell_type": "code",
   "execution_count": 30,
   "metadata": {},
   "outputs": [],
   "source": [
    "train = pd.read_csv(\"train_NIR5Yl1.csv\")\n",
    "test = pd.read_csv(\"test_8i3B3FC.csv\")"
   ]
  },
  {
   "cell_type": "code",
   "execution_count": 3,
   "metadata": {},
   "outputs": [
    {
     "data": {
      "text/html": [
       "<div>\n",
       "<style scoped>\n",
       "    .dataframe tbody tr th:only-of-type {\n",
       "        vertical-align: middle;\n",
       "    }\n",
       "\n",
       "    .dataframe tbody tr th {\n",
       "        vertical-align: top;\n",
       "    }\n",
       "\n",
       "    .dataframe thead th {\n",
       "        text-align: right;\n",
       "    }\n",
       "</style>\n",
       "<table border=\"1\" class=\"dataframe\">\n",
       "  <thead>\n",
       "    <tr style=\"text-align: right;\">\n",
       "      <th></th>\n",
       "      <th>ID</th>\n",
       "      <th>Tag</th>\n",
       "      <th>Reputation</th>\n",
       "      <th>Answers</th>\n",
       "      <th>Username</th>\n",
       "      <th>Views</th>\n",
       "      <th>Upvotes</th>\n",
       "    </tr>\n",
       "  </thead>\n",
       "  <tbody>\n",
       "    <tr>\n",
       "      <td>0</td>\n",
       "      <td>52664</td>\n",
       "      <td>a</td>\n",
       "      <td>3942.0</td>\n",
       "      <td>2.0</td>\n",
       "      <td>155623</td>\n",
       "      <td>7855.0</td>\n",
       "      <td>42.0</td>\n",
       "    </tr>\n",
       "    <tr>\n",
       "      <td>1</td>\n",
       "      <td>327662</td>\n",
       "      <td>a</td>\n",
       "      <td>26046.0</td>\n",
       "      <td>12.0</td>\n",
       "      <td>21781</td>\n",
       "      <td>55801.0</td>\n",
       "      <td>1175.0</td>\n",
       "    </tr>\n",
       "    <tr>\n",
       "      <td>2</td>\n",
       "      <td>468453</td>\n",
       "      <td>c</td>\n",
       "      <td>1358.0</td>\n",
       "      <td>4.0</td>\n",
       "      <td>56177</td>\n",
       "      <td>8067.0</td>\n",
       "      <td>60.0</td>\n",
       "    </tr>\n",
       "    <tr>\n",
       "      <td>3</td>\n",
       "      <td>96996</td>\n",
       "      <td>a</td>\n",
       "      <td>264.0</td>\n",
       "      <td>3.0</td>\n",
       "      <td>168793</td>\n",
       "      <td>27064.0</td>\n",
       "      <td>9.0</td>\n",
       "    </tr>\n",
       "    <tr>\n",
       "      <td>4</td>\n",
       "      <td>131465</td>\n",
       "      <td>c</td>\n",
       "      <td>4271.0</td>\n",
       "      <td>4.0</td>\n",
       "      <td>112223</td>\n",
       "      <td>13986.0</td>\n",
       "      <td>83.0</td>\n",
       "    </tr>\n",
       "  </tbody>\n",
       "</table>\n",
       "</div>"
      ],
      "text/plain": [
       "       ID Tag  Reputation  Answers  Username    Views  Upvotes\n",
       "0   52664   a      3942.0      2.0    155623   7855.0     42.0\n",
       "1  327662   a     26046.0     12.0     21781  55801.0   1175.0\n",
       "2  468453   c      1358.0      4.0     56177   8067.0     60.0\n",
       "3   96996   a       264.0      3.0    168793  27064.0      9.0\n",
       "4  131465   c      4271.0      4.0    112223  13986.0     83.0"
      ]
     },
     "execution_count": 3,
     "metadata": {},
     "output_type": "execute_result"
    }
   ],
   "source": [
    "train.head()"
   ]
  },
  {
   "cell_type": "markdown",
   "metadata": {},
   "source": [
    "# Exploratory Data Analysis"
   ]
  },
  {
   "cell_type": "code",
   "execution_count": 4,
   "metadata": {},
   "outputs": [],
   "source": [
    "def inspect_data(df, kind):\n",
    "    print(f\"Shape of the {kind} data: {df.shape}\\n\")\n",
    "    print(f\"Null values in the {kind} dataset: \")\n",
    "    print(df.isnull().sum())\n",
    "    print(f\"\\nUnique values in the {kind} columns: \")\n",
    "    for i in df.columns:\n",
    "        print(\"{0: <15}\".format(i), \"{0:<3}\".format(len(np.unique(df[i]))))\n",
    "    print(\"\\nDatatypes of individual columns are:\\n\")\n",
    "    print(df.dtypes)"
   ]
  },
  {
   "cell_type": "code",
   "execution_count": 5,
   "metadata": {},
   "outputs": [
    {
     "name": "stdout",
     "output_type": "stream",
     "text": [
      "Shape of the Test data: (141448, 6)\n",
      "\n",
      "Null values in the Test dataset: \n",
      "ID            0\n",
      "Tag           0\n",
      "Reputation    0\n",
      "Answers       0\n",
      "Username      0\n",
      "Views         0\n",
      "dtype: int64\n",
      "\n",
      "Unique values in the Test columns: \n",
      "ID              141448\n",
      "Tag             10 \n",
      "Reputation      14098\n",
      "Answers         58 \n",
      "Username        79351\n",
      "Views           52807\n",
      "\n",
      "Datatypes of individual columns are:\n",
      "\n",
      "ID              int64\n",
      "Tag            object\n",
      "Reputation    float64\n",
      "Answers       float64\n",
      "Username        int64\n",
      "Views         float64\n",
      "dtype: object\n"
     ]
    }
   ],
   "source": [
    "inspect_data(test, \"Test\")"
   ]
  },
  {
   "cell_type": "code",
   "execution_count": 6,
   "metadata": {},
   "outputs": [
    {
     "name": "stdout",
     "output_type": "stream",
     "text": [
      "Shape of the Train data: (330045, 7)\n",
      "\n",
      "Null values in the Train dataset: \n",
      "ID            0\n",
      "Tag           0\n",
      "Reputation    0\n",
      "Answers       0\n",
      "Username      0\n",
      "Views         0\n",
      "Upvotes       0\n",
      "dtype: int64\n",
      "\n",
      "Unique values in the Train columns: \n",
      "ID              330045\n",
      "Tag             10 \n",
      "Reputation      16527\n",
      "Answers         63 \n",
      "Username        141802\n",
      "Views           82137\n",
      "Upvotes         7239\n",
      "\n",
      "Datatypes of individual columns are:\n",
      "\n",
      "ID              int64\n",
      "Tag            object\n",
      "Reputation    float64\n",
      "Answers       float64\n",
      "Username        int64\n",
      "Views         float64\n",
      "Upvotes       float64\n",
      "dtype: object\n"
     ]
    }
   ],
   "source": [
    "inspect_data(train, \"Train\")"
   ]
  },
  {
   "cell_type": "markdown",
   "metadata": {},
   "source": [
    "We know from the problem description that Username and  Tag are both categorical variables and so, they must be encoded as a category and not as a numeric variable. All other columns should be numeric in nature. "
   ]
  },
  {
   "cell_type": "code",
   "execution_count": 8,
   "metadata": {},
   "outputs": [
    {
     "name": "stdout",
     "output_type": "stream",
     "text": [
      "Numerical columns:  ['Reputation', 'Answers', 'Views']\n",
      "Categorical columns:['Tag']\n"
     ]
    }
   ],
   "source": [
    "num_cols = []\n",
    "cat_cols = ['Tag']\n",
    "for i in train.columns:\n",
    "    if (i not in cat_cols) and (i != \"Upvotes\") and (i != 'Username') and (i != \"ID\"):\n",
    "        num_cols.append(i)\n",
    "print(f\"Numerical columns:  {num_cols}\\nCategorical columns:{cat_cols}\")"
   ]
  },
  {
   "cell_type": "code",
   "execution_count": 9,
   "metadata": {},
   "outputs": [
    {
     "name": "stdout",
     "output_type": "stream",
     "text": [
      "Tag           category\n",
      "Reputation     float64\n",
      "Answers        float64\n",
      "Username         int64\n",
      "Views          float64\n",
      "Upvotes        float64\n",
      "dtype: object\n"
     ]
    }
   ],
   "source": [
    "for i in cat_cols:\n",
    "    train[i] = train[i].astype('category')\n",
    "    test[i] = test[i].astype('category')\n",
    "print(train.dtypes)"
   ]
  },
  {
   "cell_type": "code",
   "execution_count": 10,
   "metadata": {},
   "outputs": [
    {
     "name": "stdout",
     "output_type": "stream",
     "text": [
      "Tag, Levels mismatched: 0\n"
     ]
    }
   ],
   "source": [
    "for i in cat_cols:\n",
    "    mismatch = len(set(test[i]).difference(set(train[i])))\n",
    "    print(f\"{i}, Levels mismatched: {mismatch}\")"
   ]
  },
  {
   "cell_type": "code",
   "execution_count": 32,
   "metadata": {},
   "outputs": [
    {
     "data": {
      "image/png": "[encoded data removed]",
      "text/plain": [
       "<Figure size 1080x360 with 2 Axes>"
      ]
     },
     "metadata": {
      "needs_background": "light"
     },
     "output_type": "display_data"
    }
   ],
   "source": [
    "fig, axis = plt.subplots(1, 2, figsize = (15,5))\n",
    "sns.barplot(y = 'Upvotes', x = 'Tag', data = train, ax = axis[0], ci = 0)\n",
    "axis[0].set_title(\"Variation of upvotes wrt Tag\")\n",
    "\n",
    "sns.countplot(train.Tag, ax = axis[1])\n",
    "axis[1].set_title(\"Countplot of individual Tags.\")\n",
    "plt.show()"
   ]
  },
  {
   "cell_type": "markdown",
   "metadata": {},
   "source": [
    "It could be seen that tag j has highest mean upvotes, followed by tag p and overall too, tag j is highly frequent. Tag r has the least mean upvotes and it's proportion in the dataset is also quite small."
   ]
  },
  {
   "cell_type": "code",
   "execution_count": 33,
   "metadata": {},
   "outputs": [
    {
     "data": {
      "image/png": "[encoded data removed]",
      "text/plain": [
       "<Figure size 1080x360 with 1 Axes>"
      ]
     },
     "metadata": {
      "needs_background": "light"
     },
     "output_type": "display_data"
    }
   ],
   "source": [
    "fig, axis = plt.subplots(1, 1, figsize = (15,5))\n",
    "sns.regplot(y = 'Upvotes', x = 'Reputation', data = train, ax = axis)\n",
    "axis.set_title(\"Variation of upvotes wrt Reputation\")\n",
    "plt.show()"
   ]
  },
  {
   "cell_type": "markdown",
   "metadata": {},
   "source": [
    "There seems to be no substantial effect of reputation on upvotes but overall upvotes seem to be increase as the reputation increases. "
   ]
  },
  {
   "cell_type": "code",
   "execution_count": 34,
   "metadata": {},
   "outputs": [
    {
     "data": {
      "image/png": "[encoded data removed]",
      "text/plain": [
       "<Figure size 1080x360 with 1 Axes>"
      ]
     },
     "metadata": {
      "needs_background": "light"
     },
     "output_type": "display_data"
    }
   ],
   "source": [
    "fig, axis = plt.subplots(1, 1, figsize = (15,5))\n",
    "sns.regplot(y = 'Upvotes', x = 'Answers', data = train, ax = axis)\n",
    "axis.set_title(\"Variation of upvotes wrt Answers\")\n",
    "plt.show()"
   ]
  },
  {
   "cell_type": "markdown",
   "metadata": {},
   "source": [
    "There seems to be a slight positive correlation between number of upvotes and the answers."
   ]
  },
  {
   "cell_type": "code",
   "execution_count": 35,
   "metadata": {},
   "outputs": [
    {
     "data": {
      "image/png": "[encoded data removed]",
      "text/plain": [
       "<Figure size 1080x360 with 1 Axes>"
      ]
     },
     "metadata": {
      "needs_background": "light"
     },
     "output_type": "display_data"
    }
   ],
   "source": [
    "fig, axis = plt.subplots(1, 1, figsize = (15,5))\n",
    "sns.regplot(y = 'Upvotes', x = 'Views', data = train, ax = axis)\n",
    "axis.set_title(\"Variation of upvotes wrt Views\")\n",
    "plt.show()"
   ]
  },
  {
   "cell_type": "markdown",
   "metadata": {},
   "source": [
    "As the number of views increases, the number of votes seem to increase dearly. "
   ]
  },
  {
   "cell_type": "code",
   "execution_count": 15,
   "metadata": {},
   "outputs": [],
   "source": [
    "# Add a threshold of answers column\n",
    "threshold = float(train['Answers'].quantile([0.5]))\n",
    "train['threshold'] = np.where(train['Answers'] > threshold, 1 , 0)\n",
    "test['threshold'] = np.where(test['Answers'] > threshold, 1, 0)\n",
    "num_cols.append('threshold')\n",
    "\n",
    "# Filtering unwanted data, looking at the plot above\n",
    "train = train[train['Views'] <= 4000000]"
   ]
  },
  {
   "cell_type": "markdown",
   "metadata": {},
   "source": [
    "# Data Preparation for Model"
   ]
  },
  {
   "cell_type": "code",
   "execution_count": 16,
   "metadata": {},
   "outputs": [],
   "source": [
    "# Define inputs appropriately\n",
    "X = train.drop(columns = ['Upvotes'])\n",
    "y = train.Upvotes\n",
    "\n",
    "X_user_train = X['Username']\n",
    "X_tag_train = X['Tag']\n",
    "X_num_train = X[num_cols]\n",
    "\n",
    "X_test = test.copy()\n",
    "X_user_test = X_test['Username']\n",
    "X_tag_test = X_test['Tag']\n",
    "X_num_test = X_test[num_cols]"
   ]
  },
  {
   "cell_type": "code",
   "execution_count": 17,
   "metadata": {},
   "outputs": [],
   "source": [
    "# Scale the numerical variables to get them in a unitless form\n",
    "SS = StandardScaler()\n",
    "SS.fit(X[num_cols])\n",
    "\n",
    "X_num_train = SS.transform(X[num_cols])\n",
    "X_num_test = SS.transform(X_test[num_cols])"
   ]
  },
  {
   "cell_type": "code",
   "execution_count": 18,
   "metadata": {},
   "outputs": [],
   "source": [
    "# Get One hot encoded vectors for the categorical variables (i.e. Tag)\n",
    "cat_tag_train = pd.get_dummies(X_tag_train)\n",
    "cat_tag_test = pd.get_dummies(X_tag_test)"
   ]
  },
  {
   "cell_type": "code",
   "execution_count": 19,
   "metadata": {},
   "outputs": [],
   "source": [
    "# Since username has extremely large number of categories, we'll label-encode them instead of one-hot encoding them\n",
    "user_le = LabelEncoder().fit(X_user_train)\n",
    "\n",
    "# Get the disctionary which maps items to their classes\n",
    "le_dict = dict(zip(user_le.classes_, user_le.transform(user_le.classes_)))\n",
    "\n",
    "# Use the dictionary to create mappings, and wherever there's a new username, mark him/her with 1\n",
    "# This is required because an embedding needs to be learned for each and every label that appears in the feature\n",
    "# If there are some labels in test which did not appear in train, then in the prediction phase, the model will \n",
    "# throw an error saying it hasn't learned the embedding for the new label\n",
    "\n",
    "cat_uname_train = np.array(X_user_train.apply(lambda x: le_dict.get(x, 1)))\n",
    "cat_uname_test = np.array(X_user_test.apply(lambda x: le_dict.get(x, 1)))\n",
    "\n",
    "# Find the size of this dictionary\n",
    "username_size = len(le_dict) + 1\n",
    "tag_size = len(np.unique(train.Tag)) + 1"
   ]
  },
  {
   "cell_type": "markdown",
   "metadata": {},
   "source": [
    "# Defining the model architecture\n",
    "\n",
    "First create two categorical embedding layers for the Username and Tag columns.\n",
    "\n",
    "Next create a Dense layer for numerical attributes.\n",
    "\n",
    "Combine these features and create several Dense sigmoid layers with eventual linear activation since this is a regression problem."
   ]
  },
  {
   "cell_type": "code",
   "execution_count": 20,
   "metadata": {},
   "outputs": [
    {
     "name": "stdout",
     "output_type": "stream",
     "text": [
      "WARNING:tensorflow:From C:\\Users\\nayak\\Anaconda3\\lib\\site-packages\\tensorflow\\python\\ops\\resource_variable_ops.py:435: colocate_with (from tensorflow.python.framework.ops) is deprecated and will be removed in a future version.\n",
      "Instructions for updating:\n",
      "Colocations handled automatically by placer.\n"
     ]
    }
   ],
   "source": [
    "# Embedding for username\n",
    "username_input = Input(shape = (1,), name = 'Username')\n",
    "username_embed = Embedding(input_dim = username_size, output_dim = 10, name = \"User_Embedding\")(username_input)\n",
    "username_embed_flat = Flatten()(username_embed)"
   ]
  },
  {
   "cell_type": "code",
   "execution_count": 21,
   "metadata": {},
   "outputs": [],
   "source": [
    "# Embedding for Tags\n",
    "tag_input = Input(shape = (cat_tag_train.shape[1],), name = \"Tag\")\n",
    "tag_embed = Embedding(input_dim = tag_size, output_dim = 10, name = \"Tag_Embedding\")(tag_input)\n",
    "tag_embed_flat = Flatten()(tag_embed)"
   ]
  },
  {
   "cell_type": "code",
   "execution_count": 22,
   "metadata": {},
   "outputs": [],
   "source": [
    "# Define input for numerical variables\n",
    "num_inputs = Input(shape = (X_num_train.shape[1],), name = \"Numerical_IP\")"
   ]
  },
  {
   "cell_type": "code",
   "execution_count": 23,
   "metadata": {},
   "outputs": [],
   "source": [
    "# Collect all the inputs together\n",
    "concatenated = concatenate([username_embed_flat, tag_embed_flat, num_inputs])\n",
    "MLP_hidden1 = Dense(20, activation = 'tanh', name = \"FC_hidden_layer_1\")(concatenated)\n",
    "Dropout(rate = 0.15)\n",
    "op_layer = Dense(1, activation = 'linear', name = 'Output')(MLP_hidden1)"
   ]
  },
  {
   "cell_type": "code",
   "execution_count": 24,
   "metadata": {},
   "outputs": [],
   "source": [
    "# Define a model based on the above architecture\n",
    "model = Model(inputs = [username_input, tag_input, num_inputs], output = op_layer)"
   ]
  },
  {
   "cell_type": "code",
   "execution_count": 25,
   "metadata": {},
   "outputs": [
    {
     "name": "stdout",
     "output_type": "stream",
     "text": [
      "Model: \"model_1\"\n",
      "__________________________________________________________________________________________________\n",
      "Layer (type)                    Output Shape         Param #     Connected to                     \n",
      "==================================================================================================\n",
      "Username (InputLayer)           (None, 1)            0                                            \n",
      "__________________________________________________________________________________________________\n",
      "Tag (InputLayer)                (None, 10)           0                                            \n",
      "__________________________________________________________________________________________________\n",
      "User_Embedding (Embedding)      (None, 1, 10)        1418030     Username[0][0]                   \n",
      "__________________________________________________________________________________________________\n",
      "Tag_Embedding (Embedding)       (None, 10, 10)       110         Tag[0][0]                        \n",
      "__________________________________________________________________________________________________\n",
      "flatten_1 (Flatten)             (None, 10)           0           User_Embedding[0][0]             \n",
      "__________________________________________________________________________________________________\n",
      "flatten_2 (Flatten)             (None, 100)          0           Tag_Embedding[0][0]              \n",
      "__________________________________________________________________________________________________\n",
      "Numerical_IP (InputLayer)       (None, 4)            0                                            \n",
      "__________________________________________________________________________________________________\n",
      "concatenate_1 (Concatenate)     (None, 114)          0           flatten_1[0][0]                  \n",
      "                                                                 flatten_2[0][0]                  \n",
      "                                                                 Numerical_IP[0][0]               \n",
      "__________________________________________________________________________________________________\n",
      "FC_hidden_layer_1 (Dense)       (None, 20)           2300        concatenate_1[0][0]              \n",
      "__________________________________________________________________________________________________\n",
      "Output (Dense)                  (None, 1)            21          FC_hidden_layer_1[0][0]          \n",
      "==================================================================================================\n",
      "Total params: 1,420,461\n",
      "Trainable params: 1,420,461\n",
      "Non-trainable params: 0\n",
      "__________________________________________________________________________________________________\n"
     ]
    }
   ],
   "source": [
    "model.summary()"
   ]
  },
  {
   "cell_type": "code",
   "execution_count": 26,
   "metadata": {},
   "outputs": [],
   "source": [
    "# We wanna minimize rmse i.e. mse hence use that as the loss function\n",
    "# Use SGD as the learning algorithm and metric will be rmse only. Since rmse isn't available, use mse\n",
    "model.compile(loss = 'mean_squared_error', optimizer = SGD(lr = 0.01), metrics = ['mean_squared_error'])"
   ]
  },
  {
   "cell_type": "code",
   "execution_count": 27,
   "metadata": {
    "scrolled": false
   },
   "outputs": [
    {
     "name": "stdout",
     "output_type": "stream",
     "text": [
      "WARNING:tensorflow:From C:\\Users\\nayak\\Anaconda3\\lib\\site-packages\\tensorflow\\python\\ops\\math_ops.py:3066: to_int32 (from tensorflow.python.ops.math_ops) is deprecated and will be removed in a future version.\n",
      "Instructions for updating:\n",
      "Use tf.cast instead.\n",
      "Train on 264032 samples, validate on 66009 samples\n",
      "Epoch 1/10\n",
      "264032/264032 [==============================] - 208s 787us/step - loss: 11667564.8794 - mean_squared_error: 11667560.0000\n",
      "Epoch 2/10\n",
      "264032/264032 [==============================] - 203s 767us/step - loss: 11664325.3342 - mean_squared_error: 11664302.0000\n",
      "Epoch 3/10\n",
      "264032/264032 [==============================] - 214s 811us/step - loss: 11666237.0213 - mean_squared_error: 11666238.0000 - val_loss: 13560047.2909 - val_mean_squared_error: 13560045.0000\n",
      "Epoch 4/10\n",
      "264032/264032 [==============================] - 209s 793us/step - loss: 11667750.8905 - mean_squared_error: 11667733.0000\n",
      "Epoch 5/10\n",
      "264032/264032 [==============================] - 189s 718us/step - loss: 11670568.7026 - mean_squared_error: 11670567.0000\n",
      "Epoch 6/10\n",
      "264032/264032 [==============================] - 200s 756us/step - loss: 11670926.0148 - mean_squared_error: 11670950.0000 - val_loss: 13540360.6036 - val_mean_squared_error: 13540361.0000\n",
      "Epoch 7/10\n",
      "264032/264032 [==============================] - 202s 767us/step - loss: 11667416.3016 - mean_squared_error: 11667413.0000\n",
      "Epoch 8/10\n",
      "264032/264032 [==============================] - 170s 645us/step - loss: 11669503.0152 - mean_squared_error: 11669498.0000\n",
      "Epoch 9/10\n",
      "264032/264032 [==============================] - 194s 734us/step - loss: 11670983.4453 - mean_squared_error: 11670981.0000 - val_loss: 13781434.5751 - val_mean_squared_error: 13781426.0000\n",
      "Epoch 10/10\n",
      "264032/264032 [==============================] - 215s 816us/step - loss: 11670929.4059 - mean_squared_error: 11670944.0000\n"
     ]
    },
    {
     "data": {
      "text/plain": [
       "<keras.callbacks.callbacks.History at 0x20e5d97f358>"
      ]
     },
     "execution_count": 27,
     "metadata": {},
     "output_type": "execute_result"
    }
   ],
   "source": [
    "# Fit the model on train and let the network learn weights for embedding and for regression\n",
    "model.fit([cat_uname_train, cat_tag_train, X_num_train], \n",
    "          y=y, epochs = 10, validation_split=0.20, validation_freq = 3)"
   ]
  },
  {
   "cell_type": "code",
   "execution_count": 28,
   "metadata": {
    "scrolled": false
   },
   "outputs": [],
   "source": [
    "# Use the trained model above to make predictions\n",
    "predictions = model.predict([cat_uname_test, cat_tag_test, X_num_test])"
   ]
  },
  {
   "cell_type": "code",
   "execution_count": 31,
   "metadata": {},
   "outputs": [],
   "source": [
    "# Save the predictions to a csv file.\n",
    "x = pd.DataFrame({'ID':test.ID})\n",
    "x['Upvotes'] = predictions\n",
    "x.to_csv('PredictionsNN_Embeddings.csv', index=False)"
   ]
  }
 ],
 "metadata": {
  "kernelspec": {
   "display_name": "Python 3",
   "language": "python",
   "name": "python3"
  },
  "language_info": {
   "codemirror_mode": {
    "name": "ipython",
    "version": 3
   },
   "file_extension": ".py",
   "mimetype": "text/x-python",
   "name": "python",
   "nbconvert_exporter": "python",
   "pygments_lexer": "ipython3",
   "version": "3.6.8"
  },
  "latex_envs": {
   "LaTeX_envs_menu_present": true,
   "autoclose": false,
   "autocomplete": true,
   "bibliofile": "biblio.bib",
   "cite_by": "apalike",
   "current_citInitial": 1,
   "eqLabelWithNumbers": true,
   "eqNumInitial": 1,
   "hotkeys": {
    "equation": "Ctrl-E",
    "itemize": "Ctrl-I"
   },
   "labels_anchors": false,
   "latex_user_defs": false,
   "report_style_numbering": false,
   "user_envs_cfg": false
  },
  "toc": {
   "base_numbering": 1,
   "nav_menu": {},
   "number_sections": true,
   "sideBar": true,
   "skip_h1_title": false,
   "title_cell": "Table of Contents",
   "title_sidebar": "Contents",
   "toc_cell": false,
   "toc_position": {},
   "toc_section_display": true,
   "toc_window_display": false
  }
 },
 "nbformat": 4,
 "nbformat_minor": 2
}
